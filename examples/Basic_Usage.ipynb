{
 "cells": [
  {
   "cell_type": "code",
   "execution_count": 3,
   "metadata": {
    "id": "gGyVx2RyJ128"
   },
   "outputs": [],
   "source": [
    "import os\n",
    "from ibm_granite_community.notebook_utils import is_colab\n",
    "\n",
    "if is_colab():\n",
    "    from google.colab import userdata\n",
    "    os.environ['REPLICATE_API_TOKEN'] = userdata.get('REPLICATE_API_TOKEN')"
   ]
  },
  {
   "cell_type": "code",
   "execution_count": null,
   "metadata": {
    "id": "8AY6igsZ2QTm"
   },
   "outputs": [],
   "source": [
    "!pip install git+https://github.com/ibm-granite-community/utils"
   ]
  },
  {
   "cell_type": "code",
   "execution_count": null,
   "metadata": {},
   "outputs": [],
   "source": [
    "!pip install langchain-core"
   ]
  },
  {
   "cell_type": "code",
   "execution_count": null,
   "metadata": {
    "id": "yxEZGzJdGnJs"
   },
   "outputs": [],
   "source": [
    "!curl https://ollama.ai/install.sh | sh"
   ]
  },
  {
   "cell_type": "code",
   "execution_count": null,
   "metadata": {
    "id": "S2aQog02Gouo"
   },
   "outputs": [],
   "source": [
    "os.system(\"nohup ollama serve &\")"
   ]
  },
  {
   "cell_type": "code",
   "execution_count": null,
   "metadata": {
    "id": "DfrFV0gjGxni"
   },
   "outputs": [],
   "source": [
    "!ollama pull granite-code:8b"
   ]
  },
  {
   "cell_type": "code",
   "execution_count": 9,
   "metadata": {
    "id": "qTXzIbRN2hJ6",
    "pycharm": {
     "is_executing": true
    }
   },
   "outputs": [],
   "source": [
    "from ibm_granite_community.langchain_utils import find_langchain_model\n",
    "\n",
    "colab_model = find_langchain_model(platform=\"Replicate\", model_id= \"ibm-granite/granite-8b-code-instruct-128k\")\n",
    "ollama_model = find_langchain_model(platform=\"ollama\", model_id= \"granite-code:8b\")\n"
   ]
  },
  {
   "cell_type": "code",
   "execution_count": null,
   "metadata": {
    "colab": {
     "base_uri": "https://localhost:8080/"
    },
    "id": "A2KQOBLBJk3x",
    "outputId": "16fd3cdb-ef29-453f-8165-a66fc6c23e37"
   },
   "outputs": [],
   "source": [
    "prompt = \"\"\"\n",
    "Complete this famous phrase: a shark on whisky is might risky, a shark on beer is\n",
    "\"\"\"\n",
    "\n",
    "print(f\"Colab: {colab_model.invoke(prompt)}\")\n",
    "print(f\"Ollama: {ollama_model.invoke(prompt)}\")\n"
   ]
  },
  {
   "cell_type": "markdown",
   "metadata": {},
   "source": [
    "## Vector DB"
   ]
  },
  {
   "cell_type": "code",
   "execution_count": 11,
   "metadata": {},
   "outputs": [],
   "source": [
    "from ibm_granite_community.langchain_utils import find_langchain_vector_db\n",
    "from langchain_core.embeddings import FakeEmbeddings\n",
    "embeddings_model = FakeEmbeddings(size=384)\n",
    "vector_db_provider = \"milvus\"\n",
    "db_file = \"/tmp/milvus.db\"\n",
    "\n",
    "vector_db = find_langchain_vector_db(vector_db_provider, embeddings_model, connection_args={\"uri\": db_file}, auto_id=True)"
   ]
  }
 ],
 "metadata": {
  "colab": {
   "provenance": []
  },
  "kernelspec": {
   "display_name": ".venv",
   "language": "python",
   "name": "python3"
  },
  "language_info": {
   "codemirror_mode": {
    "name": "ipython",
    "version": 3
   },
   "file_extension": ".py",
   "mimetype": "text/x-python",
   "name": "python",
   "nbconvert_exporter": "python",
   "pygments_lexer": "ipython3",
   "version": "3.10.15"
  }
 },
 "nbformat": 4,
 "nbformat_minor": 0
}
