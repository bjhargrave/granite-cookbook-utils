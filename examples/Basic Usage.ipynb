{
 "nbformat": 4,
 "nbformat_minor": 0,
 "metadata": {
  "colab": {
   "provenance": []
  },
  "kernelspec": {
   "name": "python3",
   "display_name": "Python 3"
  },
  "language_info": {
   "name": "python"
  }
 },
 "cells": [
  {
   "cell_type": "code",
   "execution_count": null,
   "metadata": {
    "id": "8AY6igsZ2QTm"
   },
   "outputs": [],
   "source": [
    "!pip install git+https://github.com/ibm-granite-community/utils"
   ]
  },
  {
   "cell_type": "code",
   "source": [
    "from ibm_granite_community.notebook_utils import is_colab"
   ],
   "metadata": {
    "id": "Xgo3cObn2TG7"
   },
   "execution_count": 2,
   "outputs": []
  },
  {
   "cell_type": "code",
   "source": [
    "is_colab()"
   ],
   "metadata": {
    "id": "HxNe8h0g2gGf",
    "outputId": "330d93f6-945d-46af-9f75-2af19ad4a96b",
    "colab": {
     "base_uri": "https://localhost:8080/"
    }
   },
   "execution_count": 3,
   "outputs": [
    {
     "output_type": "execute_result",
     "data": {
      "text/plain": [
       "True"
      ]
     },
     "metadata": {},
     "execution_count": 3
    }
   ]
  },
  {
   "cell_type": "code",
   "source": [
    "from ibm_granite_community.langchain_utils import find_langchain_model\n",
    "model = find_langchain_model(platform=\"Replicate\", model_id= \"ibm-granite/granite-8b-code-instruct-128k\")\n",
    "# model = find_langchain_model(platform=\"ollama\", model_id= \"granite-code:8b\")\n"
   ],
   "metadata": {
    "id": "qTXzIbRN2hJ6",
    "pycharm": {
     "is_executing": true
    }
   },
   "execution_count": null,
   "outputs": []
  },
  {
   "cell_type": "code",
   "execution_count": null,
   "outputs": [],
   "source": [
    "prompt = \"\"\"\n",
    "Complete this famous phrase: a shark on whisky is might risky, a shark on beer is\n",
    "\"\"\"\n",
    "\n",
    "model.invoke(prompt)\n"
   ],
   "metadata": {
    "collapsed": false
   }
  }
 ]
}
