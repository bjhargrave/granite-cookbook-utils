{
  "nbformat": 4,
  "nbformat_minor": 0,
  "metadata": {
    "colab": {
      "provenance": []
    },
    "kernelspec": {
      "name": "python3",
      "display_name": "Python 3"
    },
    "language_info": {
      "name": "python"
    }
  },
  "cells": [
    {
      "cell_type": "code",
      "execution_count": null,
      "metadata": {
        "id": "8AY6igsZ2QTm"
      },
      "outputs": [],
      "source": [
        "!pip install git+https://github.com/ibm-granite-community/utils"
      ]
    },
    {
      "cell_type": "code",
      "source": [
        "from granite.notebook_utils import is_colab"
      ],
      "metadata": {
        "id": "Xgo3cObn2TG7"
      },
      "execution_count": 2,
      "outputs": []
    },
    {
      "cell_type": "code",
      "source": [
        "is_colab()"
      ],
      "metadata": {
        "id": "HxNe8h0g2gGf",
        "outputId": "330d93f6-945d-46af-9f75-2af19ad4a96b",
        "colab": {
          "base_uri": "https://localhost:8080/"
        }
      },
      "execution_count": 3,
      "outputs": [
        {
          "output_type": "execute_result",
          "data": {
            "text/plain": [
              "True"
            ]
          },
          "metadata": {},
          "execution_count": 3
        }
      ]
    },
    {
      "cell_type": "code",
      "source": [],
      "metadata": {
        "id": "qTXzIbRN2hJ6"
      },
      "execution_count": null,
      "outputs": []
    }
  ]
}