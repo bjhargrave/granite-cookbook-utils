{
  "nbformat": 4,
  "nbformat_minor": 0,
  "metadata": {
    "colab": {
      "provenance": []
    },
    "kernelspec": {
      "name": "python3",
      "display_name": "Python 3"
    },
    "language_info": {
      "name": "python"
    }
  },
  "cells": [
    {
      "cell_type": "code",
      "source": [
        "import os\n",
        "from google.colab import userdata\n",
        "os.environ['REPLICATE_API_TOKEN'] = userdata.get('REPLICATE_API_TOKEN')"
      ],
      "metadata": {
        "id": "gGyVx2RyJ128"
      },
      "execution_count": 1,
      "outputs": []
    },
    {
      "cell_type": "code",
      "execution_count": null,
      "metadata": {
        "id": "8AY6igsZ2QTm"
      },
      "outputs": [],
      "source": [
        "!pip install git+https://github.com/ibm-granite-community/utils"
      ]
    },
    {
      "cell_type": "code",
      "source": [
        "!curl https://ollama.ai/install.sh | sh"
      ],
      "metadata": {
        "id": "yxEZGzJdGnJs"
      },
      "execution_count": null,
      "outputs": []
    },
    {
      "cell_type": "code",
      "source": [
        "!nohup ollama serve &"
      ],
      "metadata": {
        "id": "S2aQog02Gouo"
      },
      "execution_count": null,
      "outputs": []
    },
    {
      "cell_type": "code",
      "source": [
        "!ollama pull granite-code:8b"
      ],
      "metadata": {
        "id": "DfrFV0gjGxni"
      },
      "execution_count": null,
      "outputs": []
    },
    {
      "cell_type": "code",
      "source": [
        "from ibm_granite_community.notebook_utils import is_colab\n",
        "is_colab()"
      ],
      "metadata": {
        "id": "HxNe8h0g2gGf",
        "outputId": "77919107-96a1-459f-a30d-5371cfae0e93",
        "colab": {
          "base_uri": "https://localhost:8080/"
        }
      },
      "execution_count": 6,
      "outputs": [
        {
          "output_type": "execute_result",
          "data": {
            "text/plain": [
              "True"
            ]
          },
          "metadata": {},
          "execution_count": 6
        }
      ]
    },
    {
      "cell_type": "code",
      "source": [
        "from ibm_granite_community.langchain_utils import find_langchain_model\n",
        "\n",
        "colab_model = find_langchain_model(platform=\"Replicate\", model_id= \"ibm-granite/granite-8b-code-instruct-128k\")\n",
        "ollama_model = find_langchain_model(platform=\"ollama\", model_id= \"granite-code:8b\")\n"
      ],
      "metadata": {
        "id": "qTXzIbRN2hJ6",
        "pycharm": {
          "is_executing": true
        }
      },
      "execution_count": 7,
      "outputs": []
    },
    {
      "cell_type": "code",
      "execution_count": 8,
      "outputs": [
        {
          "output_type": "stream",
          "name": "stdout",
          "text": [
            "Colab: A shark on whisky is might risky, a shark on beer is not.\n",
            "\n",
            "Ollama: A shark on whiskey is mighty risky, a shark on beer is not so hot.\n",
            "\n"
          ]
        }
      ],
      "source": [
        "prompt = \"\"\"\n",
        "Complete this famous phrase: a shark on whisky is might risky, a shark on beer is\n",
        "\"\"\"\n",
        "\n",
        "print(f\"Colab: {colab_model.invoke(prompt)}\")\n",
        "print(f\"Ollama: {ollama_model.invoke(prompt)}\")\n"
      ],
      "metadata": {
        "colab": {
          "base_uri": "https://localhost:8080/"
        },
        "id": "A2KQOBLBJk3x",
        "outputId": "16fd3cdb-ef29-453f-8165-a66fc6c23e37"
      }
    }
  ]
}